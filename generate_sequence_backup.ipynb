{
 "cells": [
  {
   "cell_type": "code",
   "execution_count": 1,
   "metadata": {},
   "outputs": [],
   "source": [
    "import pandas as pd\n",
    "import random\n",
    "import os\n",
    "import shutil\n",
    "\n",
    "\n",
    "import random\n",
    "\n",
    "def generate_random_numbers(num, numLen):\n",
    "    while True:\n",
    "        # Generate three sets of randomly permuted numbers from 1 to 5\n",
    "        if numLen==14:\n",
    "            set1 = random.sample(range(1, num+1), num)\n",
    "            set2 = random.sample(range(1, num+1), num)\n",
    "            set3 = random.sample(range(1, num+1), num)\n",
    "                    # Concatenate the three sets\n",
    "            concatenated_numbers = set1 + set2 + set3\n",
    "        else:\n",
    "            set1 = random.sample(range(1, num+1), num)\n",
    "            set2 = random.sample(range(1, num+1), num)\n",
    "            set3 = random.sample(range(1, num+1), num)\n",
    "            set4 = random.sample(range(1, num+1), num)\n",
    "            concatenated_numbers = set1 + set2 + set3 + set4\n",
    "\n",
    "\n",
    "\n",
    "        # Drop the last number to make it a 14-digit number\n",
    "        # Make sure that the length of sequence is numLen\n",
    "        concatenated_numbers = concatenated_numbers[:numLen]\n",
    "\n",
    "        # Check for consecutive identical numbers\n",
    "        consecutive_check = any(\n",
    "            abs(concatenated_numbers[i] - concatenated_numbers[i+1]) == 1 and\n",
    "            abs(concatenated_numbers[i+1] - concatenated_numbers[i+2]) == 1\n",
    "            for i in range(numLen-2)\n",
    "        )\n",
    "\n",
    "        # Check for repetitions of identical numbers\n",
    "        repetitive_check = any(\n",
    "            concatenated_numbers[i] == concatenated_numbers[i+1]\n",
    "            for i in range(numLen-1)\n",
    "        )\n",
    "\n",
    "        if not consecutive_check and not repetitive_check:\n",
    "            return concatenated_numbers"
   ]
  },
  {
   "cell_type": "code",
   "execution_count": null,
   "metadata": {},
   "outputs": [],
   "source": []
  },
  {
   "cell_type": "code",
   "execution_count": null,
   "metadata": {},
   "outputs": [],
   "source": []
  },
  {
   "cell_type": "code",
   "execution_count": 12,
   "metadata": {},
   "outputs": [],
   "source": [
    "def generate_tgt_file(group_type, seq_type, block):\n",
    "    # Set constant values\n",
    "    iti_value = 2000\n",
    "    stim_time_value = 15000\n",
    "    prep_time_value = 3000\n",
    "    feedback_value = 1\n",
    "\n",
    "    # Generate 32 trials\n",
    "    data = []\n",
    "    random_horizons = generate_random_numbers(8,2)\n",
    "    for k in range(2):\n",
    "        random_numbers = generate_random_numbers(5, 14)\n",
    "\n",
    "        # Create a row of data\n",
    "       # row = [group_type, seq_type, feedback_value] + random_numbers + [''.join(map(str, random_numbers)), iti_value, random_horizons[k], stim_time_value, prep_time_value]\n",
    "        row = [seq_type, feedback_value] + random_numbers + [''.join(map(str, random_numbers)), iti_value, random_horizons[k], stim_time_value, prep_time_value]\n",
    "\n",
    "        # Append the row to the data list\n",
    "        data.append(row)\n",
    "\n",
    "    # Create a DataFrame using pandas\n",
    "    #columns = [\"groupType\", \"seqType\", \"feedback\"] + [f\"press{i}\" for i in range(1, 15)] + [\"cueP\", \"iti\", \"Horizon\", \"StimTime\", \"PrepTime\"]\n",
    "    columns = [\"seqType\", \"feedback\"] + [f\"press{i}\" for i in range(1, 15)] + [\"cueP\", \"iti\", \"Horizon\", \"StimTime\", \"PrepTime\"]\n",
    "\n",
    "    df = pd.DataFrame(data, columns=columns)\n",
    "\n",
    "    # Save the DataFrame to a CSV file with .tgt extension\n",
    "    filename = f\"ssh_a{group_type}_b{block}.tgt\"\n",
    "    df.to_csv(filename, sep='\\t',  index=False)\n",
    "\n",
    "\n",
    "#from google.colab import files\n",
    "import numpy as np\n",
    "# Specify the file path\n",
    "for group_type in range(1,3):\n",
    "    block = 1\n",
    "    if group_type==1:\n",
    "        seq_type = np.tile([1, 2],40)\n",
    "    else:\n",
    "        seq_type = np.tile([2, 1],40)\n",
    "    for k in range(8):\n",
    "        generate_tgt_file(group_type, seq_type[k], block)\n",
    "        block = block+1\n",
    "        #            file_path =  f\"ssh_s{seq_type}_h{horizon}_b{block}.tgt\"\n",
    "                # Download the file\n",
    "        #           files.download(file_path)"
   ]
  },
  {
   "cell_type": "code",
   "execution_count": 5,
   "metadata": {},
   "outputs": [
    {
     "data": {
      "text/plain": [
       "array([1, 2, 1, 2, 1, 2, 1, 2, 1, 2, 1, 2, 1, 2, 1, 2, 1, 2, 1, 2, 1, 2,\n",
       "       1, 2, 1, 2, 1, 2, 1, 2, 1, 2, 1, 2, 1, 2, 1, 2, 1, 2, 1, 2, 1, 2,\n",
       "       1, 2, 1, 2, 1, 2, 1, 2, 1, 2, 1, 2, 1, 2, 1, 2, 1, 2, 1, 2, 1, 2,\n",
       "       1, 2, 1, 2, 1, 2, 1, 2, 1, 2, 1, 2, 1, 2])"
      ]
     },
     "execution_count": 5,
     "metadata": {},
     "output_type": "execute_result"
    }
   ],
   "source": [
    "import numpy as np\n",
    "\n",
    "np.tile([1, 2],40)"
   ]
  },
  {
   "cell_type": "code",
   "execution_count": 16,
   "metadata": {},
   "outputs": [
    {
     "data": {
      "text/plain": [
       "array([3, 6, 2, 5, 8, 7, 1, 4, 7, 3, 2, 6, 4, 5, 1, 8, 4, 8, 2, 6, 1, 7,\n",
       "       3, 5, 8, 2, 6, 7, 3, 1, 5, 4])"
      ]
     },
     "execution_count": 16,
     "metadata": {},
     "output_type": "execute_result"
    }
   ],
   "source": []
  },
  {
   "cell_type": "code",
   "execution_count": 25,
   "metadata": {},
   "outputs": [
    {
     "data": {
      "text/plain": [
       "(array([320.,   0., 320.,   0.,   0., 320.,   0.,   0., 320.,   0.,   0.,\n",
       "        320.,   0.,   0., 320.,   0.,   0., 320.,   0., 320.]),\n",
       " array([1.  , 1.35, 1.7 , 2.05, 2.4 , 2.75, 3.1 , 3.45, 3.8 , 4.15, 4.5 ,\n",
       "        4.85, 5.2 , 5.55, 5.9 , 6.25, 6.6 , 6.95, 7.3 , 7.65, 8.  ]),\n",
       " <BarContainer object of 20 artists>)"
      ]
     },
     "execution_count": 25,
     "metadata": {},
     "output_type": "execute_result"
    },
    {
     "data": {
      "image/png": "[encoded data removed]",
      "text/plain": [
       "<Figure size 640x480 with 1 Axes>"
      ]
     },
     "metadata": {},
     "output_type": "display_data"
    }
   ],
   "source": [
    "data = []\n",
    "import matplotlib.pyplot as plt\n",
    "for k in range(1,81):\n",
    "    df = pd.read_csv(f'ssh_g2_b{k}.tgt', sep='\\t')\n",
    "    data.append(df['Horizon'].values)\n",
    "plt.hist(np.concatenate(data),bins=20)"
   ]
  },
  {
   "cell_type": "code",
   "execution_count": null,
   "metadata": {},
   "outputs": [],
   "source": []
  },
  {
   "cell_type": "code",
   "execution_count": 4,
   "metadata": {},
   "outputs": [],
   "source": [
    "def generate_tgt_file_OLD(seq_type, block):\n",
    "    # Set constant values\n",
    "    iti_value = 2000\n",
    "    stim_time_value = 15000\n",
    "    prep_time_value = 3000\n",
    "    feedback_value = 1\n",
    "\n",
    "    # Generate 27 trials\n",
    "    data = []\n",
    "    random_horizons = generate_random_numbers(8, 27)\n",
    "    for k in range(27):\n",
    "        random_numbers = generate_random_numbers(5, 14)\n",
    "\n",
    "        # Create a row of data\n",
    "        row = [seq_type, feedback_value] + random_numbers + [''.join(map(str, random_numbers)), iti_value, random_horizons[k], stim_time_value, prep_time_value]\n",
    "\n",
    "        # Append the row to the data list\n",
    "        data.append(row)\n",
    "\n",
    "    # Create a DataFrame using pandas\n",
    "    columns = [\"seqType\", \"feedback\"] + [f\"press{i}\" for i in range(1, 15)] + [\"cueP\", \"iti\", \"Horizon\", \"StimTime\", \"PrepTime\"]\n",
    "    df = pd.DataFrame(data, columns=columns)\n",
    "\n",
    "    # Save the DataFrame to a CSV file with .tgt extension\n",
    "    filename = f\"ssh_s{seq_type}_b{block}.tgt\"\n",
    "    df.to_csv(filename, sep='\\t',  index=False)\n",
    "\n",
    "\n",
    "#from google.colab import files\n",
    "\n",
    "# Specify the file path\n",
    "block = 1\n",
    "for _ in range(80):\n",
    "    for seq_type in range(1,3):\n",
    "        generate_tgt_file(seq_type, block)\n",
    "        block = block+1\n",
    "    #            file_path =  f\"ssh_s{seq_type}_h{horizon}_b{block}.tgt\"\n",
    "            # Download the file\n",
    "    #           files.download(file_path)"
   ]
  },
  {
   "cell_type": "code",
   "execution_count": null,
   "metadata": {},
   "outputs": [],
   "source": []
  },
  {
   "cell_type": "code",
   "execution_count": null,
   "metadata": {},
   "outputs": [],
   "source": []
  }
 ],
 "metadata": {
  "kernelspec": {
   "display_name": "ChatGPT",
   "language": "python",
   "name": "chatgpt"
  },
  "language_info": {
   "codemirror_mode": {
    "name": "ipython",
    "version": 3
   },
   "file_extension": ".py",
   "mimetype": "text/x-python",
   "name": "python",
   "nbconvert_exporter": "python",
   "pygments_lexer": "ipython3",
   "version": "3.10.13"
  }
 },
 "nbformat": 4,
 "nbformat_minor": 2
}
